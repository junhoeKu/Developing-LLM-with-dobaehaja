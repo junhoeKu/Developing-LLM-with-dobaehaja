{
 "cells": [
  {
   "cell_type": "markdown",
   "id": "3c8ec832",
   "metadata": {},
   "source": [
    "# Modeling"
   ]
  },
  {
   "cell_type": "code",
   "execution_count": null,
   "id": "5b755a59",
   "metadata": {},
   "outputs": [],
   "source": [
    "# 데이터 포맷팅 및 토크나이징\n",
    "from tqdm import tqdm\n",
    "formatted_data = []\n",
    "for _, row in tqdm(train_data.iterrows()):\n",
    "    # '질문_1'은 항상 존재한다고 가정\n",
    "    q_cols = ['질문_1']\n",
    "    \n",
    "    # '질문_2'가 있으면 리스트에 추가\n",
    "    if pd.notnull(row['질문_2']):\n",
    "        q_cols.append('질문_2')\n",
    "        \n",
    "    for q_col in q_cols:\n",
    "        for a_col in ['답변_1', '답변_2', '답변_3', '답변_4', '답변_5']:\n",
    "            # 질문이나 답변이 비어있지 않은 경우에만 처리\n",
    "            if pd.notnull(row[q_col]) and pd.notnull(row[a_col]):\n",
    "                input_text = row[q_col] + tokenizer.eos_token + row[a_col]\n",
    "                input_ids = tokenizer.encode(input_text, return_tensors='pt')\n",
    "                formatted_data.append(input_ids)\n",
    "print('Done.')"
   ]
  },
  {
   "cell_type": "code",
   "execution_count": null,
   "id": "13bf1a57",
   "metadata": {},
   "outputs": [],
   "source": [
    "model.to(device)"
   ]
  },
  {
   "cell_type": "code",
   "execution_count": null,
   "id": "021249ed",
   "metadata": {},
   "outputs": [],
   "source": [
    "# 모델 학습 하이퍼파라미터(Hyperparameter) 세팅\n",
    "# 실제 필요에 따라 조정하세요.\n",
    "CFG = {\n",
    "    'LR' : 2e-5, # Learning Rate\n",
    "    'EPOCHS' : 15, # 학습 Epoch\n",
    "}\n",
    "\n",
    "# 모델 학습 설정\n",
    "optimizer = AdamW(model.parameters(), lr=CFG['LR'])"
   ]
  },
  {
   "cell_type": "code",
   "execution_count": null,
   "id": "0133ce58",
   "metadata": {},
   "outputs": [],
   "source": [
    "model.train()"
   ]
  },
  {
   "cell_type": "code",
   "execution_count": null,
   "id": "5d93fbcb",
   "metadata": {},
   "outputs": [],
   "source": [
    "# 모델 학습\n",
    "# 경로는 본인 로컬 환경에 맞춰서 설정\n",
    "checkpoint_path = '/'\n",
    "\n",
    "for epoch in range(0, 15):\n",
    "    total_loss = 0\n",
    "    progress_bar = tqdm(enumerate(formatted_data), total=len(formatted_data))\n",
    "    for batch_idx, inputs in progress_bar:\n",
    "        # 데이터를 GPU단으로 이동\n",
    "        inputs = inputs.to(device)\n",
    "\n",
    "        outputs = model(inputs, labels=inputs)\n",
    "        loss = outputs.loss\n",
    "\n",
    "        optimizer.zero_grad()\n",
    "        loss.backward()\n",
    "        optimizer.step()\n",
    "        total_loss += loss.item()\n",
    "\n",
    "        # 진행률 표시줄에 평균 손실 업데이트\n",
    "        progress_bar.set_description(f\"Epoch {epoch+1} - Avg Loss: {total_loss / (batch_idx+1):.4f}\")\n",
    "\n",
    "    # 에폭의 평균 손실을 출력\n",
    "    print(f\"Epoch {epoch+1}/10, Average Loss: {total_loss / len(formatted_data)}\")\n",
    "\n",
    "    if epoch%3 ==0:\n",
    "        checkpoint_path = os.path.join(checkpoint_path,f\"checkpoint_epoch_{epoch+1}\")\n",
    "        if not os.path.exists(checkpoint_path):\n",
    "          os.makedirs(checkpoint_path)\n",
    "        model.save_pretrained(checkpoint_path)\n",
    "        tokenizer.save_pretrained(checkpoint_path)\n",
    "        print(f\"Save checkpoint to {checkpoint_path}\")\n",
    "\n",
    "# 모델 저장\n",
    "model.save_pretrained(\"./maywell\")\n",
    "tokenizer.save_pretrained(\"./maywell\")"
   ]
  },
  {
   "cell_type": "code",
   "execution_count": null,
   "id": "d0b4248e",
   "metadata": {},
   "outputs": [],
   "source": [
    "import torch\n",
    "import gc\n",
    "\n",
    "# 사용 완료된 텐서 삭제\n",
    "#del inputs, labels, outputs, loss\n",
    "gc.collect()  # 가비지 컬렉터 실행\n",
    "torch.cuda.empty_cache()  # 캐시된 메모리 정리"
   ]
  }
 ],
 "metadata": {
  "kernelspec": {
   "display_name": "Python 3 (ipykernel)",
   "language": "python",
   "name": "python3"
  },
  "language_info": {
   "codemirror_mode": {
    "name": "ipython",
    "version": 3
   },
   "file_extension": ".py",
   "mimetype": "text/x-python",
   "name": "python",
   "nbconvert_exporter": "python",
   "pygments_lexer": "ipython3",
   "version": "3.11.5"
  }
 },
 "nbformat": 4,
 "nbformat_minor": 5
}
